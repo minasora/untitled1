{
 "cells": [
  {
   "cell_type": "code",
   "execution_count": 25,
   "metadata": {
    "collapsed": true,
    "pycharm": {
     "is_executing": false
    }
   },
   "outputs": [],
   "source": [
    "import time\n",
    "import numpy as np\n",
    "import pandas as pd\n",
    "from datetime import datetime"
   ]
  },
  {
   "cell_type": "code",
   "source": [
    "def string_to_timestamp(strings,t=48):\n",
    "    \"\"\"\n",
    "    :param strings: [b'2013070101,b'2013070102']\n",
    "    :param t: 48 timestamp of a day \n",
    "    :return: '2013-0701 00:00:00','2013-07-01 00:30:00'\n",
    "    \"\"\"\n",
    "    timestamps = []\n",
    "    time_per_slot = 24.0 / t\n",
    "    num_per_t = t\n",
    "    \n",
    "    for t in strings:\n",
    "        print(t)\n",
    "        year, month, day, slot = int(t[:4]), int(t[4:6]), int(t[6:8]), int(t[8:]) - 1 \n",
    "        timestamps.append(pd.Timestamp(datetime(year,month,day,hour = int(slot * time_per_slot),minute = (slot % num_per_t)* int (60.0 * time_per_slot))))    \n",
    "    \n",
    "    return timestamps\n",
    "# example:\n",
    "print(string_to_timestamp([\"2013070101\"]))"
   ],
   "metadata": {
    "collapsed": false,
    "pycharm": {
     "name": "#%% \n",
     "is_executing": false
    }
   },
   "execution_count": 39,
   "outputs": [
    {
     "name": "stdout",
     "text": [
      "2013070101\n[Timestamp('2013-07-01 00:00:00')]\n"
     ],
     "output_type": "stream"
    }
   ]
  },
  {
   "cell_type": "code",
   "execution_count": 40,
   "outputs": [
    {
     "name": "stdout",
     "text": [
      "[[0 0 1 0 0 0 0 1]]\n"
     ],
     "output_type": "stream"
    }
   ],
   "source": [
    "def timestamp_to_vec(timestamps):\n",
    "    \"\"\"\n",
    "    时间戳_to_vec\n",
    "    :param timestamps: \n",
    "    :return: vec\n",
    "    example:\n",
    "    ['2018120505','2018120106']\n",
    "    return：[[0 0 1 0 0 0 0 1]当前是星期三，工作日\n",
    "            [0 0 0 0 0 1 0 0]当前是星期六，休息日                             \n",
    "    \"\"\"\n",
    "    vec = [time.strptime(str(t[:8]),'%Y%m%d').tm_wday for t in timestamps]\n",
    "    ret = []\n",
    "    for i in vec:\n",
    "        v = [0 for j in range(7)]\n",
    "        v[i] = 1\n",
    "        if i >= 5:\n",
    "            v.append(0) # weekend\n",
    "        else:\n",
    "            v.append(1) # weekday\n",
    "        ret.append(v)\n",
    "    return np.asarray(ret)\n",
    "# example:\n",
    "print(timestamp_to_vec(['2018120505']))\n",
    "            \n"
   ],
   "metadata": {
    "collapsed": false,
    "pycharm": {
     "name": "#%%\n",
     "is_executing": false
    }
   }
  },
  {
   "cell_type": "code",
   "source": [
    "\n",
    "\n"
   ],
   "metadata": {
    "collapsed": false,
    "pycharm": {
     "name": "#%% \n",
     "is_executing": false
    }
   },
   "execution_count": 40,
   "outputs": []
  },
  {
   "cell_type": "code",
   "execution_count": null,
   "outputs": [],
   "source": [
    "class STMatrix(object):\n",
    "    \"\"\"\n",
    "    string for STMatrix\n",
    "    \n",
    "    \"\"\"\n",
    "    def __init__(self, data, timestamps, t=48, check_complete=True):\n",
    "        super(STMatrix,self).__init__()\n",
    "        self.get_index = dict()\n",
    "        self.make_index()\n",
    "        assert len(data) == len(timestamps)\n",
    "        self.data = data\n",
    "        self.timestamps = timestamps\n",
    "        self.t = t\n",
    "        self.get_index\n",
    "        self.pd_timestamps = string_to_timestamp(timestamps,T = self.T)\n",
    "        if check_complete:\n",
    "            self.check_complete()\n",
    "        self.make_index()\n",
    "        \n",
    "    def make_index(self):\n",
    "        for i,ts in enumerate(self.pd_timestamps):\n",
    "            self.get_index[ts] = i\n",
    "    def check_complete(self):\n",
    "        missing_timestamps = []\n",
    "        offset = pd.DateOffset(minutes = 24*60)\n",
    "        pd_timestamps = self.pd_timestamps\n",
    "        i = 1\n",
    "        while i < len(pd_timestamps):\n",
    "            if pd_timestamps[i-1] + offset != pd_timestamps[i]:\n",
    "                missing_timestamps.append('(%s -- %s)' % (pd_timestamps[i-1],pd_timestamps[i]))\n",
    "            i += 1\n",
    "    def get_matrix(self, timestamp):\n",
    "            return self.data[self.get_index[timestamp]]\n",
    "    def check_it(self, depends):\n",
    "        for d in depends:\n",
    "            if d not in self.get_index.keys():\n",
    "                return False\n",
    "        return True\n",
    "    \n",
    "    def create_dataset(self,len_cloneness=3, len_trend=3, trend_interval=7,len_period=3,period_interval=1):\n",
    "        offset_frame = pd.DateOffset(minutes = 24*60 // self.T) # 时间偏移\n",
    "        XC = []\n",
    "        XP = []\n",
    "        XT = []\n",
    "        Y = []\n",
    "        timestamps_Y = []\n",
    "        depends = [range(1,len_cloneness),\n",
    "                   [period_interval*self.t*j for j in range(1,len_period+1)],\n",
    "                   [trend_interval*self.t*j for j in range(1,len_trend+1)]]\n",
    "        i = max(self.t*trend_interval * len_trend,self.t*period_interval*len_period,len_cloneness)\n",
    "        "
   ],
   "metadata": {
    "collapsed": false,
    "pycharm": {
     "name": "#%%\n"
    }
   }
  },
  {
   "cell_type": "code",
   "execution_count": 42,
   "outputs": [
    {
     "name": "stdout",
     "text": [
      "<DateOffset: minutes=1440>\n"
     ],
     "output_type": "stream"
    }
   ],
   "source": [],
   "metadata": {
    "collapsed": false,
    "pycharm": {
     "name": "#%%\n",
     "is_executing": false
    }
   }
  },
  {
   "cell_type": "code",
   "execution_count": null,
   "outputs": [],
   "source": [
    "\n"
   ],
   "metadata": {
    "collapsed": false,
    "pycharm": {
     "name": "#%%\n"
    }
   }
  }
 ],
 "metadata": {
  "kernelspec": {
   "display_name": "Python 3",
   "language": "python",
   "name": "python3"
  },
  "language_info": {
   "codemirror_mode": {
    "name": "ipython",
    "version": 2
   },
   "file_extension": ".py",
   "mimetype": "text/x-python",
   "name": "python",
   "nbconvert_exporter": "python",
   "pygments_lexer": "ipython2",
   "version": "2.7.6"
  },
  "pycharm": {
   "stem_cell": {
    "cell_type": "raw",
    "source": [],
    "metadata": {
     "collapsed": false
    }
   }
  }
 },
 "nbformat": 4,
 "nbformat_minor": 0
}